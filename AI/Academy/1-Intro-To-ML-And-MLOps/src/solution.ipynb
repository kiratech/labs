{
 "cells": [
  {
   "cell_type": "code",
   "execution_count": null,
   "metadata": {},
   "outputs": [],
   "source": [
    "import pandas as pd\n",
    "\n",
    "# URL del dataset (sostituiscilo con il tuo link)\n",
    "url = \"https://raw.githubusercontent.com/boradpreet/Weather_dataset/refs/heads/master/Weather%20Test%20Data.csv\"\n",
    "# Carica il dataset\n",
    "df = pd.read_csv(url)\n",
    "\n",
    "# 1. Rimozione dei valori mancanti\n",
    "df = df.dropna()\n",
    "# 2. Conversione della colonna 'RainToday' in valori numerici\n",
    "df['RainToday'] = df['RainToday'].apply(lambda x: 1 if x == 'Yes' else 0)\n",
    "# 3. Selezione delle feature \n",
    "features = ['MinTemp', 'MaxTemp', 'Humidity3pm', 'Humidity9am']\n",
    "X = df[features]\n",
    "y = df['RainToday']\n",
    "\n",
    "from sklearn.model_selection import train_test_split\n",
    "# Suddivisione dei dati (80% training, 20% testing)\n",
    "X_train, X_test, y_train, y_test = train_test_split(X, y, test_size=0.2, random_state=42)\n",
    "print(f\"Dimensioni del dataset di training: {len(X_train)}\")\n",
    "print(f\"Dimensioni del dataset di test: {len(X_test)}\")\n",
    "\n",
    "from sklearn.ensemble import RandomForestClassifier\n",
    "# Creazione e addestramento del modello\n",
    "model = RandomForestClassifier(n_estimators=100, random_state=42)\n",
    "model.fit(X_train, y_train)\n",
    "\n",
    "from sklearn.metrics import accuracy_score, classification_report\n",
    "# Predizioni sul set di test\n",
    "y_pred = model.predict(X_test)\n",
    "# Calcolo dell'accuratezza\n",
    "accuracy = accuracy_score(y_test, y_pred)\n",
    "print(f\"Accuratezza del modello: {accuracy:.2f}\")\n",
    "# Report di classificazione\n",
    "print(classification_report(y_test, y_pred))\n",
    "\n",
    "import seaborn as sns\n",
    "import matplotlib.pyplot as plt\n",
    "from sklearn.metrics import confusion_matrix\n",
    "# Creiamo una heatmap con Seaborn\n",
    "target_names = [\"No Rain\", \"Rain\"]\n",
    "cm = confusion_matrix(y_test, y_pred)\n",
    "plt.figure(figsize=(6, 4))\n",
    "sns.heatmap(cm, annot=True, fmt=\"d\", cmap=\"Blues\", xticklabels=target_names, yticklabels=target_names)\n",
    "# Aggiungiamo i titoli\n",
    "plt.xlabel(\"Predicted Label\")\n",
    "plt.ylabel(\"True Label\")\n",
    "plt.title(\"Confusion Matrix\")\n",
    "# Mostriamo il grafico\n",
    "plt.show()"
   ]
  },
  {
   "cell_type": "code",
   "execution_count": null,
   "metadata": {},
   "outputs": [],
   "source": [
    "import mlflow\n",
    "import mlflow.sklearn\n",
    "\n",
    "# Impostiamo un nome per l'esperimento\n",
    "mlflow.set_tracking_uri(\"http://127.0.0.1:5000\")\n",
    "mlflow.set_experiment(\"weather_classification_experiment\")"
   ]
  },
  {
   "cell_type": "code",
   "execution_count": null,
   "metadata": {},
   "outputs": [],
   "source": [
    "# Usando il modello creato nella Parte 1\n",
    "from sklearn.ensemble import RandomForestClassifier\n",
    "from sklearn.metrics import accuracy_score\n",
    "\n",
    "n_estimators = 100\n",
    "\n",
    "# Creiamo una nuova run MLflow\n",
    "with mlflow.start_run():\n",
    "    # Log Param\n",
    "    mlflow.log_param(\"n_estimators\", n_estimators)\n",
    "\n",
    "    # Creazione del modello\n",
    "    rf_model = RandomForestClassifier(n_estimators=n_estimators, random_state=42)\n",
    "    rf_model.fit(X_train, y_train)\n",
    "\n",
    "    # Calcolo metriche\n",
    "    y_pred = rf_model.predict(X_test)\n",
    "    accuracy = accuracy_score(y_test, y_pred)\n",
    "    mlflow.log_metric(\"accuracy\", accuracy)\n",
    "\n",
    "    # Salviamo il modello\n",
    "    mlflow.sklearn.log_model(rf_model, \"random_forest_model\")\n",
    "\n",
    "    print(f\"Esperimento concluso. Accuratezza registrata: {accuracy:.2f}\")"
   ]
  },
  {
   "cell_type": "code",
   "execution_count": null,
   "metadata": {},
   "outputs": [],
   "source": [
    "import mlflow.sklearn\n",
    "from sklearn.metrics import accuracy_score\n",
    "\n",
    "# Inserisci un run_id reale che trovi nell'interfaccia MLflow\n",
    "RUN_ID = \"<run_id_della_tua_run>\"\n",
    "\n",
    "loaded_model = mlflow.sklearn.load_model(f\"runs:/{RUN_ID}/random_forest_model\")\n",
    "\n",
    "# Verifichiamo l'accuratezza\n",
    "y_loaded_pred = loaded_model.predict(X_test)\n",
    "acc_loaded = accuracy_score(y_test, y_loaded_pred)\n",
    "print(f\"Accuratezza del modello caricato: {acc_loaded:.2f}\")"
   ]
  }
 ],
 "metadata": {
  "kernelspec": {
   "display_name": "Python 3.10.10 ('venv': venv)",
   "language": "python",
   "name": "python3"
  },
  "language_info": {
   "codemirror_mode": {
    "name": "ipython",
    "version": 3
   },
   "file_extension": ".py",
   "mimetype": "text/x-python",
   "name": "python",
   "nbconvert_exporter": "python",
   "pygments_lexer": "ipython3",
   "version": "3.10.10"
  },
  "vscode": {
   "interpreter": {
    "hash": "a8e57e261110579b348b220fe1c71aea6cd1a8cd238281550a2a6c068185ef06"
   }
  }
 },
 "nbformat": 4,
 "nbformat_minor": 2
}
