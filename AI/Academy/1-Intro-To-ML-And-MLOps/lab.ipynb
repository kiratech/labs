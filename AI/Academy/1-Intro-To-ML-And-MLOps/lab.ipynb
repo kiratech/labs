{
 "cells": [
  {
   "cell_type": "markdown",
   "metadata": {},
   "source": [
    "# Lab: Modello ML di base con Dataset Meteo + Integrazione MLflow\n",
    "\n",
    "In questo laboratorio, affrontiamo un percorso step-by-step:\n",
    "\n",
    "1. **Caricare e preparare un dataset meteo** (con dati di temperatura e umidità) per prevedere se pioverà o meno.\n",
    "2. **Addestrare un modello di Machine Learning** con Scikit-learn.\n",
    "3. **Valutare il modello** e comprendere i risultati.\n",
    "4. **Estendere il progetto** integrando **MLflow** per tracciare metriche, parametri e versioni del modello.\n",
    "\n",
    "La prima parte si concentra su Scikit-learn e il dataset meteo. La seconda parte estende il codice esistente con MLflow."
   ]
  },
  {
   "cell_type": "markdown",
   "metadata": {},
   "source": [
    "---\n"
   ]
  },
  {
   "cell_type": "markdown",
   "metadata": {},
   "source": [
    "## Parte 0: Setup dell'Environment per Python\n",
    "\n",
    "#### **Requisiti**\n",
    "\n",
    "Questo laboratorio assume che Python sia già installato, la repository [kiratech/labs](https://github.com/kiratech/labs.git) sia accessibile e che Git sia configurato correttamente sul computer locale.\n",
    "\n",
    "### 1. Clonare la Repository\n",
    "Per iniziare, clona la repository del laboratorio eseguendo il seguente comando:\n",
    "\n",
    "```sh\n",
    "git clone https://github.com/kiratech/labs.git\n",
    "```\n",
    "\n",
    "### 2. Fare il Checkout del Branch Lab\n",
    "\n",
    "Dopo aver clonato la repository, entra nella cartella del progetto:\n",
    "\n",
    "```sh\n",
    "cd labs\n",
    "```\n",
    "\n",
    "Quindi, fai il checkout del branch `lab`:\n",
    "\n",
    "```sh\n",
    "git checkout academy-ai\n",
    "```\n",
    "In questa cartella sono presenti le risorse relative ai laboratori con tema AI.\n",
    "\n",
    "### 3. Spostarsi nella Cartella 1-Intro-To-ML-And-MLOps\n",
    "\n",
    "Naviga nella cartella del primo laboratorio:\n",
    "\n",
    "```sh\n",
    "cd AI/Academy/1-Intro-To-ML-And-MLOps\n",
    "```\n",
    "\n",
    "### 4. Apri il progetto in VSCode\n",
    "\n",
    "A questo punto apri VSCode dall'explorer oppure lanciando il comando:\n",
    "```sh\n",
    "code .\n",
    "```\n",
    "\n",
    "### 5. Creare un Virtual Environment\n",
    "\n",
    "Un ambiente virtuale permette di isolare le dipendenze del progetto da quelle di sistema.\n",
    "\n",
    "Tramite il terminale di VSCode, crea un ambiente virtuale:\n",
    "\n",
    "```sh\n",
    "python -m venv venv\n",
    "```\n",
    "\n",
    "Attiva l'Ambiente Virtuale\n",
    "\n",
    "- **Su macOS e Linux:**\n",
    "  \n",
    "  ```sh\n",
    "  source venv/bin/activate\n",
    "  ```\n",
    "  \n",
    "- **Su Windows:**\n",
    "  \n",
    "  ```sh\n",
    "  venv\\Scripts\\activate\n",
    "  ```\n",
    "\n",
    "Dovresti vedere il prefisso `(venv)` nel terminale, indicando che l'ambiente virtuale è attivo.\n",
    "\n",
    "### 6. Installare i pacchetti da `requirements.txt`\n",
    "\n",
    "Tramite il file `requirements.txt`, possiamo installare tutte le dipendenze di questo laboratorio, in particolare **scikit-learn** e **MLflow**, eseguendo il comando:\n",
    "\n",
    "```sh\n",
    "pip install -r src/requirements.txt\n",
    "```\n",
    "\n",
    "Verifica che i pacchetti siano stati installati correttamente con:\n",
    "\n",
    "```sh\n",
    "pip list\n",
    "```\n",
    "A questo punto si può continuare sul file `lab.ipynb`."
   ]
  },
  {
   "cell_type": "markdown",
   "metadata": {},
   "source": [
    "---"
   ]
  },
  {
   "cell_type": "markdown",
   "metadata": {},
   "source": [
    "## Parte 1: Dai dati al modello ML (Supervised Learning con Scikit-learn)\n",
    "\n",
    "**Obiettivo**\n",
    "- Creare un semplice **modello di classificazione** per predire la pioggia basandoci su dati di temperatura e umidità.\n"
   ]
  },
  {
   "cell_type": "markdown",
   "metadata": {},
   "source": [
    "### 1. Preparazione del Dataset\n",
    "\n",
    "Per semplicità, qui useremo un dataset di esempio:\n",
    "[Weather Test Data](https://raw.githubusercontent.com/boradpreet/Weather_dataset/refs/heads/master/Weather%20Test%20Data.csv)"
   ]
  },
  {
   "cell_type": "code",
   "execution_count": null,
   "metadata": {},
   "outputs": [],
   "source": [
    "import pandas as pd\n",
    "\n",
    "# URL del dataset (sostituiscilo con il tuo link)\n",
    "url = \"https://raw.githubusercontent.com/boradpreet/Weather_dataset/refs/heads/master/Weather%20Test%20Data.csv\"\n",
    "\n",
    "# Carica il dataset\n",
    "df = pd.read_csv(url)\n",
    "\n",
    "# Mostra le prime righe\n",
    "df.head(5)\n",
    "\n"
   ]
  },
  {
   "cell_type": "markdown",
   "metadata": {},
   "source": [
    "###  2. Esplorazione e pulizia dei Dati\n",
    "1. Controlliamo se ci sono valori mancanti\n",
    "2. Trasformiamo la colonna `Label` in una variabile binaria (0 = NoRain, 1 = Rain)\n",
    "3. Selezione delle feature "
   ]
  },
  {
   "cell_type": "code",
   "execution_count": null,
   "metadata": {},
   "outputs": [],
   "source": [
    "# 1. Rimozione dei valori mancanti\n",
    "df = df.dropna()\n",
    "\n",
    "# 2. Conversione della colonna 'RainToday' in valori numerici\n",
    "df['RainToday'] = df['RainToday'].apply(lambda x: 1 if x == 'Yes' else 0)\n",
    "\n",
    "# 3. Selezione delle feature \n",
    "features = ['MinTemp', 'MaxTemp', 'Humidity3pm', 'Humidity9am']\n",
    "\n",
    "X = df[features]\n",
    "y = df['RainToday']\n"
   ]
  },
  {
   "cell_type": "markdown",
   "metadata": {},
   "source": [
    "### 3. Suddivisione del Dataset in Training e Test\n",
    "\n",
    "Prima di addestrare il modello, dividiamo il dataset in:\n",
    "- **X** (features) → Temperatura, Umidità\n",
    "- **y** (target) → Label (Rain/NoRain)"
   ]
  },
  {
   "cell_type": "code",
   "execution_count": null,
   "metadata": {},
   "outputs": [],
   "source": [
    "from sklearn.model_selection import train_test_split\n",
    "\n",
    "# Suddivisione dei dati (80% training, 20% testing)\n",
    "X_train, X_test, y_train, y_test = train_test_split(X, y, test_size=0.2, random_state=42)\n",
    "print(f\"Dimensioni del dataset di training: {len(X_train)}\")\n",
    "print(f\"Dimensioni del dataset di test: {len(X_test)}\")"
   ]
  },
  {
   "cell_type": "markdown",
   "metadata": {},
   "source": [
    "###  4. Creazione e Addestramento del Modello\n",
    "\n",
    "Utilizziamo un classificatore semplice, ad esempio [**RandomForestClassifier**](https://scikit-learn.org/stable/modules/generated/sklearn.ensemble.RandomForestClassifier.html)."
   ]
  },
  {
   "cell_type": "code",
   "execution_count": null,
   "metadata": {},
   "outputs": [],
   "source": [
    "from sklearn.ensemble import RandomForestClassifier\n",
    "\n",
    "# Creazione e addestramento del modello\n",
    "model = RandomForestClassifier(n_estimators=100, random_state=42)\n",
    "model.fit(X_train, y_train)"
   ]
  },
  {
   "cell_type": "markdown",
   "metadata": {},
   "source": [
    "### 5. Valutazione del Modello\n",
    "\n",
    "Calcoliamo l’accuratezza del modello e altre metriche. Inoltre, visualizziamo la matrice di confusione ovvero un metodo visivo per valutare le prestazioni di un modello."
   ]
  },
  {
   "cell_type": "code",
   "execution_count": null,
   "metadata": {},
   "outputs": [],
   "source": [
    "from sklearn.metrics import accuracy_score, classification_report\n",
    "\n",
    "# Predizioni sul set di test\n",
    "y_pred = model.predict(X_test)\n",
    "\n",
    "# Calcolo dell'accuratezza\n",
    "accuracy = accuracy_score(y_test, y_pred)\n",
    "print(f\"Accuratezza del modello: {accuracy:.2f}\")\n",
    "\n",
    "# Report di classificazione\n",
    "print(classification_report(y_test, y_pred))"
   ]
  },
  {
   "cell_type": "code",
   "execution_count": null,
   "metadata": {},
   "outputs": [],
   "source": [
    "import seaborn as sns\n",
    "import matplotlib.pyplot as plt\n",
    "from sklearn.metrics import confusion_matrix\n",
    "\n",
    "# Creiamo una heatmap con Seaborn\n",
    "target_names = [\"No Rain\", \"Rain\"]\n",
    "cm = confusion_matrix(y_test, y_pred)\n",
    "plt.figure(figsize=(6, 4))\n",
    "sns.heatmap(cm, annot=True, fmt=\"d\", cmap=\"Blues\", xticklabels=target_names, yticklabels=target_names)\n",
    "\n",
    "# Aggiungiamo i titoli\n",
    "plt.xlabel(\"Predicted Label\")\n",
    "plt.ylabel(\"True Label\")\n",
    "plt.title(\"Confusion Matrix\")\n",
    "\n",
    "# Mostriamo il grafico\n",
    "plt.show()"
   ]
  },
  {
   "cell_type": "markdown",
   "metadata": {},
   "source": [
    "### Conclusione (Parte 1)\n",
    "In questa prima parte, abbiamo:\n",
    "1. Caricato un dataset relativo alle condizioni meteo\n",
    "2. Pulito i dati e trasformato la variabile target\n",
    "3. Suddiviso il dataset in training e test\n",
    "4. Creato un modello di classificazione con RandomForest\n",
    "5. Valutato le prestazioni con accuratezza e matrice di confusione"
   ]
  },
  {
   "cell_type": "markdown",
   "metadata": {},
   "source": [
    "---"
   ]
  },
  {
   "cell_type": "markdown",
   "metadata": {},
   "source": [
    "## Tech: Installazione e Configurazione di MLflow\n",
    "###  Obiettivo\n",
    "- Configurare un'istanza MLflow in locale per registrare esperimenti.\n",
    "###  1. Avviare MLflow con Docker\n",
    "\n",
    "Esegui il seguente comando per avviare un'istanza locale di MLflow:\n",
    "```bash\n",
    "mlflow ui\n",
    "```\n",
    "In questo modo MLflow espone l'interfaccia grafica di MLflow all'indirizzo:\n",
    "```\n",
    "http://127.0.0.1:5000\n",
    "```\n",
    "Questa configurazione salva artefatti ed esperimenti in locale. "
   ]
  },
  {
   "cell_type": "markdown",
   "metadata": {},
   "source": [
    "### MLflow in Produzione\n",
    "Nel contesto produttivo e presso i clienti, non si esegue MLflow in locale. \n",
    "Generalmente si scelgono soluzioni che permettono un'architettura più robusta e scalabile, evitando problemi di gestione manuale degli esperimenti e della persistenza dei dati.\n",
    "Le soluzioni comuni includono:\n",
    "- **Docker Compose**: Un file docker-compose.yml viene utilizzato per avviare MLflow con un database backend e uno storage remoto.  \n",
    "Una soluzione basata su questo metodo può essere trovata nella repository interna [kiratech/mlops-service-portfolio](https://github.com/kiratech/mlops-service-portfolio/tree/main).\n",
    "- **Kubernetes**: MLflow viene distribuito su un cluster Kubernetes, garantendo scalabilità e gestione centralizzata.  \n",
    "\n",
    "Entrambe le opzioni si basano su una soluzione multi-container dove sono presenti un database persistente e un storage S3, in genere MinIO o soluzioni cloud. \n"
   ]
  },
  {
   "cell_type": "markdown",
   "metadata": {},
   "source": [
    "---"
   ]
  },
  {
   "cell_type": "markdown",
   "metadata": {},
   "source": [
    "## Parte 2: Integrazione con MLflow\n",
    "\n",
    "Adesso, estendiamo il codice esistente per **tracciare i nostri esperimenti** con **MLflow**. Questo ci permetterà di:\n",
    "- Loggare i nostri parametri (es. `n_estimators`)\n",
    "- Salvare l’accuratezza e altre metriche\n",
    "- Salvare il modello e ricaricarlo facilmente\n",
    "\n",
    "### Obiettivo\n",
    "- Integrare MLflow nel codice esistente per versionare e tracciare le metriche del modello.\n",
    "\n",
    "### 1. Setup MLflow\n",
    "Impostiamo le variabili di MLflow per questo esperimento:"
   ]
  },
  {
   "cell_type": "code",
   "execution_count": null,
   "metadata": {},
   "outputs": [],
   "source": [
    "import mlflow\n",
    "import mlflow.sklearn\n",
    "\n",
    "# Impostiamo un nome per l'esperimento\n",
    "mlflow.set_tracking_uri(\"http://127.0.0.1:5000\")\n",
    "mlflow.set_experiment(\"weather_classification_experiment\")"
   ]
  },
  {
   "cell_type": "markdown",
   "metadata": {},
   "source": [
    "Verifichiamo che dalla nostra interfaccia grafica il nuovo esperimento sia visibile."
   ]
  },
  {
   "cell_type": "markdown",
   "metadata": {},
   "source": [
    "### 2. Logging dei Parametri e Metriche\n",
    "\n",
    "Possiamo loggare:\n",
    "- Parametri → `n_estimators` e altre impostazioni\n",
    "- Metriche → accuratezza\n",
    "- Modello → versione del modello addestrato\n"
   ]
  },
  {
   "cell_type": "code",
   "execution_count": null,
   "metadata": {},
   "outputs": [],
   "source": [
    "# Usando il modello creato nella Parte 1\n",
    "from sklearn.ensemble import RandomForestClassifier\n",
    "from sklearn.metrics import accuracy_score\n",
    "\n",
    "n_estimators = 100\n",
    "\n",
    "# Creiamo una nuova run MLflow\n",
    "with mlflow.start_run():\n",
    "    # Log Param\n",
    "    mlflow.log_param(\"n_estimators\", n_estimators)\n",
    "\n",
    "    # Creazione del modello\n",
    "    rf_model = RandomForestClassifier(n_estimators=n_estimators, random_state=42)\n",
    "    rf_model.fit(X_train, y_train)\n",
    "\n",
    "    # Calcolo metriche\n",
    "    y_pred = rf_model.predict(X_test)\n",
    "    accuracy = accuracy_score(y_test, y_pred)\n",
    "    mlflow.log_metric(\"accuracy\", accuracy)\n",
    "\n",
    "    # Salviamo il modello\n",
    "    mlflow.sklearn.log_model(rf_model, \"random_forest_model\")\n",
    "\n",
    "    print(f\"Esperimento concluso. Accuratezza registrata: {accuracy:.2f}\")"
   ]
  },
  {
   "cell_type": "markdown",
   "metadata": {},
   "source": [
    "###  3. Visualizzare e Confrontare i Risultati\n",
    "\n",
    "MLflow fornisce un’interfaccia web per esplorare tutte le run ed esperimenti.\n",
    "\n",
    "```bash\n",
    "http://127.0.0.1:5000\n",
    "```\n",
    "\n",
    "Accedi all’URL indicato nel terminale. Nella sezione **Experiments** potrai vedere:\n",
    "- Parametri loggati\n",
    "- Metriche\n",
    "- Modelli salvati"
   ]
  },
  {
   "cell_type": "markdown",
   "metadata": {},
   "source": [
    "### 4. Caricare un Modello Salvato con MLflow\n",
    "\n",
    "Copiando l'id della run dell'esperimento eseguito, possiamo recuperare un modello da MLflow per fare previsioni future."
   ]
  },
  {
   "cell_type": "code",
   "execution_count": null,
   "metadata": {},
   "outputs": [],
   "source": [
    "import mlflow.sklearn\n",
    "from sklearn.metrics import accuracy_score\n",
    "\n",
    "# Inserisci un run_id reale che trovi nell'interfaccia MLflow\n",
    "RUN_ID = \"<run_id_della_tua_run>\"\n",
    "\n",
    "loaded_model = mlflow.sklearn.load_model(f\"runs:/{RUN_ID}/random_forest_model\")\n",
    "\n",
    "# Verifichiamo l'accuratezza\n",
    "y_loaded_pred = loaded_model.predict(X_test)\n",
    "acc_loaded = accuracy_score(y_test, y_loaded_pred)\n",
    "print(f\"Accuratezza del modello caricato: {acc_loaded:.2f}\")"
   ]
  },
  {
   "cell_type": "markdown",
   "metadata": {},
   "source": [
    "È possibile notare che con lo stesso dataset di test, il modello ha precisamente lo stessa accuratezza."
   ]
  },
  {
   "cell_type": "markdown",
   "metadata": {},
   "source": [
    "## Conclusioni\n",
    "In questo laboratorio abbiamo:\n",
    "1. **Creato un modello di classificazione con Scikit-learn** su un dataset meteo.\n",
    "2. **Aggiunto MLflow** per tracciare parametri, metriche e gestire le versioni del modello.\n",
    "3. **Visualizzato i risultati** con l’interfaccia MLflow UI e ricaricato il modello salvato.\n"
   ]
  },
  {
   "cell_type": "markdown",
   "metadata": {},
   "source": [
    "## Prossimi Passi\n",
    "- Provare iperparametri diversi (`n_estimators`, `max_depth`, ecc.) e confrontare i risultati su MLflow.\n",
    "- Integrare un sistema di **continuous integration/continuous deployment (CI/CD)** per distribuire automaticamente il modello.\n",
    "- Monitorare in produzione il drift del modello (eventuali cali di accuratezza)."
   ]
  }
 ],
 "metadata": {
  "kernelspec": {
   "display_name": "Python 3.10.10 ('venv': venv)",
   "language": "python",
   "name": "python3"
  },
  "language_info": {
   "codemirror_mode": {
    "name": "ipython",
    "version": 3
   },
   "file_extension": ".py",
   "mimetype": "text/x-python",
   "name": "python",
   "nbconvert_exporter": "python",
   "pygments_lexer": "ipython3",
   "version": "3.10.10"
  },
  "orig_nbformat": 4,
  "vscode": {
   "interpreter": {
    "hash": "a8e57e261110579b348b220fe1c71aea6cd1a8cd238281550a2a6c068185ef06"
   }
  }
 },
 "nbformat": 4,
 "nbformat_minor": 2
}
