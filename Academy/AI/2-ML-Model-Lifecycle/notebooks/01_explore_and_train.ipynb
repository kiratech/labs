{
 "cells": [
  {
   "cell_type": "markdown",
   "id": "f3a10b87",
   "metadata": {},
   "source": [
    "# MLOps Lab – Wine Quality\n",
    "Questo notebook dimostra l'intero ciclo:\n",
    "1. Esplorazione rapida del dataset\n",
    "2. Addestramento modello via script **src/train.py**\n",
    "3. Tracciamento esperimenti con **MLflow**\n",
    "\n",
    "👉 Eseguite le celle una alla volta; il modello verrà salvato in `artifacts/`."
   ]
  },
  {
   "cell_type": "code",
   "execution_count": null,
   "id": "d2db1a74",
   "metadata": {},
   "outputs": [],
   "source": [
    "# Imports di base\n",
    "import pandas as pd\n",
    "from sklearn.datasets import load_wine\n",
    "\n",
    "# Caricamento dataset\n",
    "X, y = load_wine(return_X_y=True, as_frame=True)\n",
    "df = X.copy()\n",
    "df['target'] = y\n",
    "df.head()\n"
   ]
  },
  {
   "cell_type": "code",
   "execution_count": null,
   "id": "a3cf996d",
   "metadata": {},
   "outputs": [],
   "source": [
    "# Analisi descrittiva veloce\n",
    "df.describe()\n"
   ]
  },
  {
   "cell_type": "code",
   "execution_count": null,
   "id": "d1faf3f8",
   "metadata": {},
   "outputs": [],
   "source": [
    "# Split + train (richiamiamo direttamente la funzione dello script)\n",
    "import importlib, sys, pathlib\n",
    "# Aggiungiamo la root del progetto al path\n",
    "sys.path.append(str(pathlib.Path.cwd().parent))\n",
    "train_mod = importlib.import_module('src.train')\n",
    "train_mod.run(n_estimators=300)\n"
   ]
  },
  {
   "cell_type": "markdown",
   "id": "28e5c13e",
   "metadata": {},
   "source": [
    "### Aprire MLflow UI\n",
    "Da terminale, nella cartella di progetto:\n",
    "```bash\n",
    "mlflow ui --port 5001\n",
    "```\n",
    "e navigate su <http://localhost:5001> per esplorare gli esperimenti."
   ]
  }
 ],
 "metadata": {
  "kernelspec": {
   "display_name": "Python 3.9.6 64-bit",
   "language": "python",
   "name": "python3"
  },
  "language_info": {
   "name": "python",
   "version": "3.9.6"
  },
  "vscode": {
   "interpreter": {
    "hash": "31f2aee4e71d21fbe5cf8b01ff0e069b9275f58929596ceb00d14d90e3e16cd6"
   }
  }
 },
 "nbformat": 4,
 "nbformat_minor": 5
}
