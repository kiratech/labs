{
 "cells": [
  {
   "cell_type": "markdown",
   "id": "f3a10b87",
   "metadata": {},
   "source": [
    "# MLOps Lab – Wine Quality\n",
    "Questo notebook dimostra l'intero ciclo:\n",
    "1. Esplorazione rapida del dataset\n",
    "2. Addestramento modello via script **src/train.py**\n",
    "3. Tracciamento esperimenti con **MLflow**\n",
    "\n",
    "👉 Eseguite le celle una alla volta; il modello verrà salvato in `artifacts/`."
   ]
  },
  {
   "cell_type": "code",
   "execution_count": null,
   "id": "d2db1a74",
   "metadata": {},
   "outputs": [],
   "source": [
    "# Imports di base\n",
    "import pandas as pd\n",
    "from sklearn.datasets import load_wine\n",
    "\n",
    "# Caricamento dataset\n",
    "X, y = load_wine(return_X_y=True, as_frame=True)\n",
    "df = X.copy()\n",
    "df['target'] = y\n",
    "df.head()\n"
   ]
  },
  {
   "cell_type": "code",
   "execution_count": null,
   "id": "a3cf996d",
   "metadata": {},
   "outputs": [],
   "source": [
    "# Analisi descrittiva veloce\n",
    "df.describe()\n"
   ]
  },
  {
   "cell_type": "code",
   "execution_count": null,
   "id": "d1faf3f8",
   "metadata": {},
   "outputs": [],
   "source": [
    "# Split + train (richiamiamo direttamente la funzione dello script)\n",
    "import importlib, sys, pathlib\n",
    "# Aggiungiamo la root del progetto al path\n",
    "sys.path.append(str(pathlib.Path.cwd().parent))\n",
    "train_mod = importlib.import_module('src.train')\n",
    "train_mod.run(n_estimators=300)\n"
   ]
  },
  {
   "cell_type": "code",
   "execution_count": 2,
   "id": "6d5b1b79",
   "metadata": {},
   "outputs": [
    {
     "ename": "AttributeError",
     "evalue": "head",
     "output_type": "error",
     "traceback": [
      "\u001b[31m---------------------------------------------------------------------------\u001b[39m",
      "\u001b[31mKeyError\u001b[39m                                  Traceback (most recent call last)",
      "\u001b[36mFile \u001b[39m\u001b[32m~/miniconda3/envs/lab_env_2/lib/python3.11/site-packages/sklearn/utils/_bunch.py:57\u001b[39m, in \u001b[36mBunch.__getattr__\u001b[39m\u001b[34m(self, key)\u001b[39m\n\u001b[32m     56\u001b[39m \u001b[38;5;28;01mtry\u001b[39;00m:\n\u001b[32m---> \u001b[39m\u001b[32m57\u001b[39m     \u001b[38;5;28;01mreturn\u001b[39;00m \u001b[38;5;28mself\u001b[39m[key]\n\u001b[32m     58\u001b[39m \u001b[38;5;28;01mexcept\u001b[39;00m \u001b[38;5;167;01mKeyError\u001b[39;00m:\n",
      "\u001b[36mFile \u001b[39m\u001b[32m~/miniconda3/envs/lab_env_2/lib/python3.11/site-packages/sklearn/utils/_bunch.py:42\u001b[39m, in \u001b[36mBunch.__getitem__\u001b[39m\u001b[34m(self, key)\u001b[39m\n\u001b[32m     38\u001b[39m     warnings.warn(\n\u001b[32m     39\u001b[39m         \u001b[38;5;28mself\u001b[39m._deprecated_key_to_warnings[key],\n\u001b[32m     40\u001b[39m         \u001b[38;5;167;01mFutureWarning\u001b[39;00m,\n\u001b[32m     41\u001b[39m     )\n\u001b[32m---> \u001b[39m\u001b[32m42\u001b[39m \u001b[38;5;28;01mreturn\u001b[39;00m \u001b[38;5;28msuper\u001b[39m().\u001b[34m__getitem__\u001b[39m(key)\n",
      "\u001b[31mKeyError\u001b[39m: 'head'",
      "\nDuring handling of the above exception, another exception occurred:\n",
      "\u001b[31mAttributeError\u001b[39m                            Traceback (most recent call last)",
      "\u001b[36mCell\u001b[39m\u001b[36m \u001b[39m\u001b[32mIn[2]\u001b[39m\u001b[32m, line 5\u001b[39m\n\u001b[32m      1\u001b[39m \u001b[38;5;28;01mfrom\u001b[39;00m\u001b[38;5;250m \u001b[39m\u001b[34;01msklearn\u001b[39;00m\u001b[34;01m.\u001b[39;00m\u001b[34;01mdatasets\u001b[39;00m\u001b[38;5;250m \u001b[39m\u001b[38;5;28;01mimport\u001b[39;00m load_wine\n\u001b[32m      3\u001b[39m data = load_wine(as_frame=\u001b[38;5;28;01mTrue\u001b[39;00m)\n\u001b[32m----> \u001b[39m\u001b[32m5\u001b[39m data.head()\n",
      "\u001b[36mFile \u001b[39m\u001b[32m~/miniconda3/envs/lab_env_2/lib/python3.11/site-packages/sklearn/utils/_bunch.py:59\u001b[39m, in \u001b[36mBunch.__getattr__\u001b[39m\u001b[34m(self, key)\u001b[39m\n\u001b[32m     57\u001b[39m     \u001b[38;5;28;01mreturn\u001b[39;00m \u001b[38;5;28mself\u001b[39m[key]\n\u001b[32m     58\u001b[39m \u001b[38;5;28;01mexcept\u001b[39;00m \u001b[38;5;167;01mKeyError\u001b[39;00m:\n\u001b[32m---> \u001b[39m\u001b[32m59\u001b[39m     \u001b[38;5;28;01mraise\u001b[39;00m \u001b[38;5;167;01mAttributeError\u001b[39;00m(key)\n",
      "\u001b[31mAttributeError\u001b[39m: head"
     ]
    }
   ],
   "source": [
    "from sklearn.datasets import load_wine\n",
    "\n",
    "data = load_wine(as_frame=True)\n",
    "\n",
    "data.data.head()"
   ]
  },
  {
   "cell_type": "markdown",
   "id": "28e5c13e",
   "metadata": {},
   "source": [
    "### Aprire MLflow UI\n",
    "Da terminale, nella cartella di progetto:\n",
    "```bash\n",
    "mlflow ui --port 5001\n",
    "```\n",
    "e navigate su <http://localhost:5001> per esplorare gli esperimenti."
   ]
  }
 ],
 "metadata": {
  "kernelspec": {
   "display_name": "Python 3.11.12 ('lab_env_2')",
   "language": "python",
   "name": "python3"
  },
  "language_info": {
   "codemirror_mode": {
    "name": "ipython",
    "version": 3
   },
   "file_extension": ".py",
   "mimetype": "text/x-python",
   "name": "python",
   "nbconvert_exporter": "python",
   "pygments_lexer": "ipython3",
   "version": "3.11.12"
  },
  "vscode": {
   "interpreter": {
    "hash": "f3091eeb433eba5ffd1439d05e3608594fa2a8935778ae687bbee724d90b3358"
   }
  }
 },
 "nbformat": 4,
 "nbformat_minor": 5
}
